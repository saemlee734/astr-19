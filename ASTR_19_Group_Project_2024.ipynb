{
  "nbformat": 4,
  "nbformat_minor": 0,
  "metadata": {
    "colab": {
      "provenance": []
    },
    "kernelspec": {
      "name": "python3",
      "display_name": "Python 3"
    },
    "language_info": {
      "name": "python"
    }
  },
  "cells": [
    {
      "cell_type": "markdown",
      "source": [
        "#ASTR 19 Group Project\n",
        "Facilitator: Sabrina Lee,\n",
        "Scribe: Alia Toth-Smith,\n",
        "Interfacer: Gordon Cai,\n",
        "Editor: Ali Taquie\n",
        "\n"
      ],
      "metadata": {
        "id": "maa9_DYIaEM7"
      }
    },
    {
      "cell_type": "code",
      "source": [
        "import numpy as np\n",
        "import matplotlib.pyplot as plt\n",
        "from scipy.optimize import curve_fit"
      ],
      "metadata": {
        "id": "k1OlW1-daIDZ"
      },
      "execution_count": null,
      "outputs": []
    },
    {
      "cell_type": "code",
      "source": [
        "# Define the data\n",
        "data = \"\"\"\n",
        "1 8:07 6.57\n",
        "1 15:37 -0.39\n",
        "2 8:55 5.38\n",
        "2 16:25 -1.74\n",
        "3 9:45 5.26\n",
        "3 17:14 -1.36\n",
        "4 10:35 4.13\n",
        "4 18:00 -1.15\n",
        "5 11:28 3.48\n",
        "5 18:46 -1.61\n",
        "6 12:22 2.62\n",
        "6 19:31 0.05\n",
        "7 13:24 1.83\n",
        "7 20:16 1.01\n",
        "8 3:22 3.57\n",
        "8 21:01 0.73\n",
        "9 4:07 4.54\n",
        "9 21:46 2.17\n",
        "10 4:50 3.76\n",
        "10 11:58 2.88\n",
        "11 5:31 3.90\n",
        "11 12:56 1.92\n",
        "12 6:08 4.73\n",
        "12 13:45 1.74\n",
        "13 6:47 5.66\n",
        "13 14:25 0.79\n",
        "14 7:22 5.33\n",
        "14 15:00 -0.04\n",
        "15 7:59 5.23\n",
        "15 15:34 -1.12\n",
        "16 8:34 6.67\n",
        "16 16:08 -0.61\n",
        "17 9:10 4.74\n",
        "17 16:41 -0.93\n",
        "18 9:45 4.69\n",
        "18 17:12 -1.29\n",
        "19 10:21 4.20\n",
        "19 17:45 0.22\n",
        "20 10:57 3.68\n",
        "20 18:15 0.26\n",
        "21 11:38 2.47\n",
        "21 18:48 0.36\n",
        "22 12:25 2.59\n",
        "22 19:20 0.99\n",
        "23 2:22 4.10\n",
        "23 19:52 1.87\n",
        "24 2:58 3.17\n",
        "24 20:30 1.60\n",
        "25 3:37 3.71\n",
        "25 10:44 3.10\n",
        "26 4:23 4.04\n",
        "26 11:55 2.49\n",
        "27 5:15 4.07\n",
        "27 12:57 2.18\n",
        "28 6:09 5.93\n",
        "28 13:50 0.70\n",
        "29 7:05 6.89\n",
        "29 14:39 0.21\n",
        "30 7:58 6.72\n",
        "30 15:27 0.22\n",
        "31 8:50 6.77\n",
        "31 16:10 -1.68\n",
        "32 9:40 5.77\n",
        "32 16:52 -1.32\n",
        "33 10:30 4.35\n",
        "33 17:34 -0.73\n",
        "34 11:19 4.23\n",
        "34 18:12 -0.38\n",
        "35 12:10 2.24\n",
        "35 18:49 -0.61\n",
        "36 1:32 3.45\n",
        "36 19:24 -0.46\n",
        "37 2:13 4.13\n",
        "37 20:00 1.21\n",
        "38 2:54 3.34\n",
        "38 9:54 2.58\n",
        "39 3:39 3.32\n",
        "39 11:15 3.26\n",
        "40 4:29 5.21\n",
        "40 12:22 2.39\n",
        "41 5:21 4.83\n",
        "41 13:14 2.41\n",
        "\"\"\""
      ],
      "metadata": {
        "id": "mdvfyKLCaKco"
      },
      "execution_count": null,
      "outputs": []
    },
    {
      "cell_type": "code",
      "source": [
        "'''\n",
        "define an oscillatory function in Python to describe\n",
        " the intra- and inter-day variations in the tide\n",
        " '''\n",
        "\n",
        " #start code\n",
        "\n",
        "\n",
        "\n"
      ],
      "metadata": {
        "id": "a8kC2Az6aMVh"
      },
      "execution_count": null,
      "outputs": []
    },
    {
      "cell_type": "code",
      "source": [
        "'''\n",
        "Using the scipy library, fit the oscillatory function to the\n",
        "data assuming the root mean squared experimental error on the\n",
        " height of the tide is 0.25 ft\n",
        "'''\n",
        "\n",
        "#start code\n",
        "\n",
        "\n"
      ],
      "metadata": {
        "id": "8TvSVC_VaMKe"
      },
      "execution_count": null,
      "outputs": []
    },
    {
      "cell_type": "code",
      "source": [
        "'''\n",
        "subtract off the best fit function from the data and plot the\n",
        "residuals. Assess graphically and mathematically deviations of\n",
        " the measured tidal data from the model. Plot a histogram of the\n",
        " residuals and measure the standard deviation\n",
        "'''\n",
        "\n",
        "#start code\n",
        "\n",
        "\n",
        "\n",
        "\n",
        "\n"
      ],
      "metadata": {
        "id": "LY21o5Bvb7f-"
      },
      "execution_count": null,
      "outputs": []
    },
    {
      "cell_type": "code",
      "source": [
        "'''\n",
        "Add a single 2ft outlier to the histogram of data and replot it\n",
        " as part of your Jupyter notebook\n",
        "'''\n",
        "\n",
        "#start code\n",
        "\n",
        "\n",
        "\n",
        "\n",
        "\n",
        "\n",
        "\n"
      ],
      "metadata": {
        "id": "PaNO5R0sc-Wi"
      },
      "execution_count": null,
      "outputs": []
    },
    {
      "cell_type": "code",
      "source": [],
      "metadata": {
        "id": "Fiim-pnWc-KJ"
      },
      "execution_count": null,
      "outputs": []
    }
  ]
}