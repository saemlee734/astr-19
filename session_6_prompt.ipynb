{
 "cells": [
  {
   "cell_type": "code",
   "execution_count": 13,
   "metadata": {},
   "outputs": [],
   "source": [
    "# Import necessary libraries\n",
    "import numpy as np\n",
    "\n",
    "# Function to calculate sin(x)\n",
    "def calculate_sin(x):\n",
    "    \"\"\"\n",
    "    Returns the sine value of x.\n",
    "    \"\"\"\n",
    "    return np.sin(x)\n",
    "\n",
    "# Function to calculate cos(x)\n",
    "def calculate_cos(x):\n",
    "    \"\"\"\n",
    "    Returns the cosine value of x.\n",
    "    \"\"\"\n",
    "    return np.cos(x)"
   ]
  },
  {
   "cell_type": "code",
   "execution_count": 14,
   "metadata": {},
   "outputs": [],
   "source": [
    "# Generate x values between 0 and 2 with a thousand entries\n",
    "x_values = np.linspace(0, 2, 1000)\n",
    "\n",
    "# Calculate sin(x) and cos(x) using the defined functions\n",
    "sin_values = calculate_sin(x_values)\n",
    "cos_values = calculate_cos(x_values)\n",
    "\n",
    "# Display a table of x, sin(x), and cos(x)\n",
    "table = np.column_stack((x_values, sin_values, cos_values))\n"
   ]
  },
  {
   "cell_type": "code",
   "execution_count": 15,
   "metadata": {},
   "outputs": [
    {
     "name": "stdout",
     "output_type": "stream",
     "text": [
      "x: 0.0, sin(x): 0.0, cos(x): 1.0\n",
      "x: 0.002002002002002002, sin(x): 0.0020020006646609234, cos(x): 0.9999979959946613\n",
      "x: 0.004004004004004004, sin(x): 0.004003993305281807, cos(x): 0.9999919839866774\n",
      "x: 0.006006006006006006, sin(x): 0.0060059698978547705, cos(x): 0.9999819640001444\n",
      "x: 0.008008008008008008, sin(x): 0.008007922418436255, cos(x): 0.9999679360752225\n",
      "x: 0.01001001001001001, sin(x): 0.010009842843179184, cos(x): 0.9999499002681359\n",
      "x: 0.012012012012012012, sin(x): 0.012011723148365119, cos(x): 0.9999278566511721\n",
      "x: 0.014014014014014014, sin(x): 0.014013555310436422, cos(x): 0.9999018053126824\n",
      "x: 0.016016016016016016, sin(x): 0.016015331306028415, cos(x): 0.9998717463570806\n",
      "x: 0.018018018018018018, sin(x): 0.01801704311200153, cos(x): 0.9998376799048435\n"
     ]
    }
   ],
   "source": [
    "# Print the first 10 values of x, sin(x), and cos(x) using a for loop\n",
    "for i in range(10):\n",
    "    x_val = x_values[i]\n",
    "    sin_val = sin_values[i]\n",
    "    cos_val = cos_values[i]\n",
    "    print(f\"x: {x_val}, sin(x): {sin_val}, cos(x): {cos_val}\")\n"
   ]
  }
 ],
 "metadata": {
  "kernelspec": {
   "display_name": "Python 3",
   "language": "python",
   "name": "python3"
  },
  "language_info": {
   "codemirror_mode": {
    "name": "ipython",
    "version": 3
   },
   "file_extension": ".py",
   "mimetype": "text/x-python",
   "name": "python",
   "nbconvert_exporter": "python",
   "pygments_lexer": "ipython3",
   "version": "3.10.4"
  }
 },
 "nbformat": 4,
 "nbformat_minor": 2
}
